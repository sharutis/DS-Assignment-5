{
 "cells": [
  {
   "cell_type": "markdown",
   "id": "39ca3a3a",
   "metadata": {},
   "source": [
    "## Assignment 4\n",
    "\n",
    "The lecture notes provided a Python implementation for a node and the foundational structure of a stack. Please proceed to implement the push and pop methods for the stack:\n",
    "\n",
    "- The push method should accept a value as parameter and should add a new node at the top of the stack with the given value. The pointers and size should be updated accordingly. This method does not return anything.\n",
    "\n",
    "- The pop method should remove the top node from the stack **and** should return its value. The pointers and size should be updated accordingly. This method does not accept any parameters. If the stack is empty, the method should return `None`.\n",
    "\n",
    "\n",
    "To facilitate an understanding of the contents of the data stack, I have provided the method `__repr__` which in turn invokes the method `__iter__` below. The `__repr__()` method returns (doesn't print) a string like this:\n",
    "\n",
    "<Stack (3 elements): ['C', 'B', 'A']>\n",
    "\n",
    "Notice that it informs of the number of elements and prints a list with the content of the nodes."
   ]
  },
  {
   "cell_type": "code",
   "execution_count": 3,
   "id": "ebbd665b",
   "metadata": {},
   "outputs": [],
   "source": [
    "def __repr__(self):\n",
    "    elements = [node.data for node in self]\n",
    "    return f'<Stack ({self._size} elements): {elements}>'\n",
    "\n",
    "def __iter__(self):\n",
    "    current = self._top\n",
    "    while current:\n",
    "        yield current\n",
    "        current = current.next"
   ]
  },
  {
   "cell_type": "code",
   "execution_count": 5,
   "id": "1c13ca21-1843-4299-a14f-9f670f6e527e",
   "metadata": {},
   "outputs": [
    {
     "name": "stdout",
     "output_type": "stream",
     "text": [
      "<Stack (3 elements): ['C', 'B', 'A']>\n",
      "C\n",
      "<Stack (2 elements): ['B', 'A']>\n"
     ]
    }
   ],
   "source": [
    "class Node:\n",
    "    def __init__(self, data):\n",
    "        self.data = data\n",
    "        self.next = None\n",
    "\n",
    "class Stack:\n",
    "    def __init__(self):\n",
    "        self._top = None\n",
    "        self._size = 0\n",
    "\n",
    "    def push(self, value):\n",
    "        new_node = Node(value)\n",
    "        new_node.next = self._top\n",
    "        self._top = new_node\n",
    "        self._size += 1\n",
    "\n",
    "    def pop(self):\n",
    "        if self._top is None:\n",
    "            return None\n",
    "        removed_node = self._top\n",
    "        self._top = self._top.next\n",
    "        self._size -= 1\n",
    "        return removed_node.data\n",
    "\n",
    "    def __repr__(self):\n",
    "        elements = [node.data for node in self]\n",
    "        return f'<Stack ({self._size} elements): {elements}>'\n",
    "\n",
    "    def __iter__(self):\n",
    "        current = self._top\n",
    "        while current:\n",
    "            yield current\n",
    "            current = current.next\n",
    "\n",
    "stack = Stack()\n",
    "stack.push('A')\n",
    "stack.push('B')\n",
    "stack.push('C')\n",
    "print(stack)  # <Stack (3 elements): ['C', 'B', 'A']>\n",
    "print(stack.pop())  # 'C'\n",
    "print(stack)  # <Stack (2 elements): ['B', 'A']>\n"
   ]
  },
  {
   "cell_type": "code",
   "execution_count": null,
   "id": "9d63c5e1-9816-4a80-b4b3-262ec5d7e7ab",
   "metadata": {},
   "outputs": [],
   "source": []
  }
 ],
 "metadata": {
  "kernelspec": {
   "display_name": "Python 3 (ipykernel)",
   "language": "python",
   "name": "python3"
  },
  "language_info": {
   "codemirror_mode": {
    "name": "ipython",
    "version": 3
   },
   "file_extension": ".py",
   "mimetype": "text/x-python",
   "name": "python",
   "nbconvert_exporter": "python",
   "pygments_lexer": "ipython3",
   "version": "3.12.5"
  }
 },
 "nbformat": 4,
 "nbformat_minor": 5
}
